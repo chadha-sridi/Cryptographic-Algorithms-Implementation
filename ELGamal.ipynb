{
  "nbformat": 4,
  "nbformat_minor": 0,
  "metadata": {
    "colab": {
      "provenance": []
    },
    "kernelspec": {
      "name": "python3",
      "display_name": "Python 3"
    },
    "language_info": {
      "name": "python"
    }
  },
  "cells": [
    {
      "cell_type": "code",
      "execution_count": 1,
      "metadata": {
        "colab": {
          "base_uri": "https://localhost:8080/"
        },
        "id": "fluQ9VSvbvbs",
        "outputId": "e4fed255-7e41-4be0-cd77-462f87aed12a"
      },
      "outputs": [
        {
          "output_type": "stream",
          "name": "stdout",
          "text": [
            "⏬ Downloading https://github.com/conda-forge/miniforge/releases/download/23.11.0-0/Mambaforge-23.11.0-0-Linux-x86_64.sh...\n",
            "📦 Installing...\n",
            "📌 Adjusting configuration...\n",
            "🩹 Patching environment...\n",
            "⏲ Done in 0:00:12\n",
            "🔁 Restarting kernel...\n",
            "Channels:\n",
            " - conda-forge\n",
            "Platform: linux-64\n",
            "Collecting package metadata (repodata.json): - \b\b\\ \b\b| \b\b/ \b\b- \b\b\\ \b\b| \b\b/ \b\b- \b\b\\ \b\b| \b\b/ \b\b- \b\b\\ \b\b| \b\b/ \b\b- \b\b\\ \b\b| \b\b/ \b\b- \b\b\\ \b\b| \b\b/ \b\b- \b\b\\ \b\b| \b\b/ \b\b- \b\b\\ \b\b| \b\b/ \b\b- \b\b\\ \b\b| \b\b/ \b\b- \b\b\\ \b\b| \b\b/ \b\b- \b\b\\ \b\b| \b\b/ \b\b- \b\b\\ \b\b| \b\b/ \b\b- \b\b\\ \b\b| \b\b/ \b\b- \b\b\\ \b\b| \b\b/ \b\b- \b\b\\ \b\b| \b\b/ \b\b- \b\b\\ \b\b| \b\b/ \b\b- \b\b\\ \b\b| \b\b/ \b\b- \b\b\\ \b\b| \b\b/ \b\b- \b\b\\ \b\b| \b\b/ \b\b- \b\b\\ \b\b| \b\b/ \b\b- \b\b\\ \b\b| \b\b/ \b\b- \b\b\\ \b\b| \b\b/ \b\b- \b\b\\ \b\b| \b\b/ \b\b- \b\b\\ \b\b| \b\b/ \b\b- \b\b\\ \b\b| \b\b/ \b\b- \b\b\\ \b\b| \b\b/ \b\b- \b\b\\ \b\b| \b\b/ \b\b- \b\b\\ \b\b| \b\b/ \b\b- \b\b\\ \b\b| \b\b/ \b\b- \b\b\\ \b\b| \b\b/ \b\b- \b\b\\ \b\b| \b\b/ \b\b- \b\b\\ \b\b| \b\b/ \b\b- \b\b\\ \b\b| \b\b/ \b\b- \b\b\\ \b\b| \b\b/ \b\b- \b\b\\ \b\b| \b\b/ \b\b- \b\b\\ \b\b| \b\b/ \b\b- \b\b\\ \b\b| \b\b/ \b\b- \b\b\\ \b\b| \b\b/ \b\b- \b\b\\ \b\b| \b\b/ \b\b- \b\b\\ \b\b| \b\b/ \b\b- \b\b\\ \b\b| \b\b/ \b\b- \b\b\\ \b\b| \b\b/ \b\b- \b\b\\ \b\b| \b\b/ \b\b- \b\b\\ \b\b| \b\b/ \b\b- \b\b\\ \b\b| \b\b/ \b\b- \b\b\\ \b\b| \b\b/ \b\b- \b\b\\ \b\b| \b\b/ \b\b- \b\b\\ \b\b| \b\b/ \b\b- \b\b\\ \b\b| \b\b/ \b\b- \b\b\\ \b\b| \b\b/ \b\b- \b\b\\ \b\b| \b\b/ \b\b- \b\b\\ \b\b| \b\b/ \b\b- \b\b\\ \b\b| \b\b/ \b\b- \b\b\\ \b\bdone\n",
            "Solving environment: / \b\b- \b\b\\ \b\b| \b\bdone\n",
            "\n",
            "\n",
            "==> WARNING: A newer version of conda exists. <==\n",
            "    current version: 23.11.0\n",
            "    latest version: 24.3.0\n",
            "\n",
            "Please update conda by running\n",
            "\n",
            "    $ conda update -n base -c conda-forge conda\n",
            "\n",
            "\n",
            "\n",
            "## Package Plan ##\n",
            "\n",
            "  environment location: /usr/local\n",
            "\n",
            "  added / updated specs:\n",
            "    - gmpy2\n",
            "\n",
            "\n",
            "The following packages will be downloaded:\n",
            "\n",
            "    package                    |            build\n",
            "    ---------------------------|-----------------\n",
            "    ca-certificates-2024.2.2   |       hbcca054_0         152 KB  conda-forge\n",
            "    certifi-2024.2.2           |     pyhd8ed1ab_0         157 KB  conda-forge\n",
            "    gmp-6.3.0                  |       h59595ed_1         556 KB  conda-forge\n",
            "    gmpy2-2.1.5                |  py310hc3586ac_0         199 KB  conda-forge\n",
            "    mpc-1.3.1                  |       hfe3b2da_0         114 KB  conda-forge\n",
            "    mpfr-4.2.1                 |       h9458935_1         628 KB  conda-forge\n",
            "    openssl-3.3.0              |       hd590300_0         2.8 MB  conda-forge\n",
            "    ------------------------------------------------------------\n",
            "                                           Total:         4.5 MB\n",
            "\n",
            "The following NEW packages will be INSTALLED:\n",
            "\n",
            "  gmp                conda-forge/linux-64::gmp-6.3.0-h59595ed_1 \n",
            "  gmpy2              conda-forge/linux-64::gmpy2-2.1.5-py310hc3586ac_0 \n",
            "  mpc                conda-forge/linux-64::mpc-1.3.1-hfe3b2da_0 \n",
            "  mpfr               conda-forge/linux-64::mpfr-4.2.1-h9458935_1 \n",
            "\n",
            "The following packages will be UPDATED:\n",
            "\n",
            "  ca-certificates                     2023.11.17-hbcca054_0 --> 2024.2.2-hbcca054_0 \n",
            "  certifi                           2023.11.17-pyhd8ed1ab_0 --> 2024.2.2-pyhd8ed1ab_0 \n",
            "  openssl                                  3.2.0-hd590300_1 --> 3.3.0-hd590300_0 \n",
            "\n",
            "\n",
            "\n",
            "Downloading and Extracting Packages:\n",
            "openssl-3.3.0        | 2.8 MB    | :   0% 0/1 [00:00<?, ?it/s]\n",
            "mpfr-4.2.1           | 628 KB    | :   0% 0/1 [00:00<?, ?it/s]\u001b[A\n",
            "\n",
            "gmp-6.3.0            | 556 KB    | :   0% 0/1 [00:00<?, ?it/s]\u001b[A\u001b[A\n",
            "\n",
            "\n",
            "gmpy2-2.1.5          | 199 KB    | :   0% 0/1 [00:00<?, ?it/s]\u001b[A\u001b[A\u001b[A\n",
            "\n",
            "\n",
            "\n",
            "certifi-2024.2.2     | 157 KB    | :   0% 0/1 [00:00<?, ?it/s]\u001b[A\u001b[A\u001b[A\u001b[A\n",
            "\n",
            "\n",
            "\n",
            "\n",
            "ca-certificates-2024 | 152 KB    | :   0% 0/1 [00:00<?, ?it/s]\u001b[A\u001b[A\u001b[A\u001b[A\u001b[A\n",
            "\n",
            "\n",
            "\n",
            "\n",
            "\n",
            "mpc-1.3.1            | 114 KB    | :   0% 0/1 [00:00<?, ?it/s]\u001b[A\u001b[A\u001b[A\u001b[A\u001b[A\u001b[A\n",
            "\n",
            "\n",
            "openssl-3.3.0        | 2.8 MB    | :   1% 0.005659047239435657/1 [00:00<00:37, 37.33s/it]\n",
            "\n",
            "\n",
            "\n",
            "certifi-2024.2.2     | 157 KB    | :  10% 0.10204348557228184/1 [00:00<00:01,  2.04s/it]\u001b[A\u001b[A\u001b[A\u001b[A\n",
            "\n",
            "gmp-6.3.0            | 556 KB    | :   3% 0.028751324905414037/1 [00:00<00:07,  7.62s/it]\u001b[A\u001b[A\n",
            "mpfr-4.2.1           | 628 KB    | :   3% 0.025478182440207758/1 [00:00<00:08,  8.83s/it]\u001b[A\n",
            "\n",
            "\n",
            "\n",
            "\n",
            "ca-certificates-2024 | 152 KB    | :  11% 0.10540943949765814/1 [00:00<00:02,  2.53s/it]\u001b[A\u001b[A\u001b[A\u001b[A\u001b[A\n",
            "\n",
            "\n",
            "\n",
            "\n",
            "\n",
            "mpc-1.3.1            | 114 KB    | :  14% 0.14090611992156593/1 [00:00<00:01,  2.05s/it]\u001b[A\u001b[A\u001b[A\u001b[A\u001b[A\u001b[A\n",
            "\n",
            "\n",
            "\n",
            "certifi-2024.2.2     | 157 KB    | : 100% 1.0/1 [00:00<00:00,  3.69it/s]                \u001b[A\u001b[A\u001b[A\u001b[A\n",
            "\n",
            "\n",
            "\n",
            "certifi-2024.2.2     | 157 KB    | : 100% 1.0/1 [00:00<00:00,  3.69it/s]\u001b[A\u001b[A\u001b[A\u001b[A\n",
            "\n",
            "\n",
            "gmpy2-2.1.5          | 199 KB    | : 100% 1.0/1 [00:00<00:00,  3.57it/s]                \u001b[A\u001b[A\u001b[A\n",
            "\n",
            "\n",
            "gmpy2-2.1.5          | 199 KB    | : 100% 1.0/1 [00:00<00:00,  3.57it/s]\u001b[A\u001b[A\u001b[A\n",
            "\n",
            "\n",
            "\n",
            "\n",
            "ca-certificates-2024 | 152 KB    | : 100% 1.0/1 [00:00<00:00,  3.34it/s]                \u001b[A\u001b[A\u001b[A\u001b[A\u001b[A\n",
            "\n",
            "\n",
            "\n",
            "\n",
            "ca-certificates-2024 | 152 KB    | : 100% 1.0/1 [00:00<00:00,  3.34it/s]\u001b[A\u001b[A\u001b[A\u001b[A\u001b[A\n",
            "\n",
            "\n",
            "\n",
            "\n",
            "\n",
            "mpc-1.3.1            | 114 KB    | : 100% 1.0/1 [00:00<00:00,  3.02it/s]                \u001b[A\u001b[A\u001b[A\u001b[A\u001b[A\u001b[A\n",
            "\n",
            "\n",
            "\n",
            "\n",
            "\n",
            "mpc-1.3.1            | 114 KB    | : 100% 1.0/1 [00:00<00:00,  3.02it/s]\u001b[A\u001b[A\u001b[A\u001b[A\u001b[A\u001b[A\n",
            "\n",
            "gmp-6.3.0            | 556 KB    | : 100% 1.0/1 [00:00<00:00,  2.76it/s]                 \u001b[A\u001b[A\n",
            "\n",
            "gmp-6.3.0            | 556 KB    | : 100% 1.0/1 [00:00<00:00,  2.76it/s]\u001b[A\u001b[A\n",
            "mpfr-4.2.1           | 628 KB    | : 100% 1.0/1 [00:00<00:00,  2.17it/s]                 \u001b[A\n",
            "                                                                        \n",
            "                                                                        \u001b[A\n",
            "\n",
            "                                                                        \u001b[A\u001b[A\n",
            "\n",
            "\n",
            "                                                                        \u001b[A\u001b[A\u001b[A\n",
            "\n",
            "\n",
            "\n",
            "                                                                        \u001b[A\u001b[A\u001b[A\u001b[A\n",
            "\n",
            "\n",
            "\n",
            "\n",
            "                                                                        \u001b[A\u001b[A\u001b[A\u001b[A\u001b[A\n",
            "\n",
            "\n",
            "\n",
            "\n",
            "\n",
            "                                                                        \u001b[A\u001b[A\u001b[A\u001b[A\u001b[A\u001b[A\n",
            "Preparing transaction: - \b\bdone\n",
            "Verifying transaction: | \b\b/ \b\bdone\n",
            "Executing transaction: \\ \b\b| \b\b/ \b\b- \b\b\\ \b\b| \b\b/ \b\b- \b\b\\ \b\bdone\n"
          ]
        }
      ],
      "source": [
        "# Instalation de conda et Gmpy2\n",
        "!pip install -q condacolab\n",
        "import condacolab\n",
        "condacolab.install()\n",
        "!conda install -c conda-forge gmpy2"
      ]
    },
    {
      "cell_type": "code",
      "source": [
        "# import Packages\n",
        "from gmpy2 import mpz, is_prime , next_prime , mpz_urandomb, is_strong_prp,random_state,mpz_random,invert,powmod\n",
        "import time"
      ],
      "metadata": {
        "id": "eSVE9UTbcEzI"
      },
      "execution_count": 1,
      "outputs": []
    },
    {
      "cell_type": "markdown",
      "source": [
        "# Fonctions élémentaires pour le cryptoystème ELGamal"
      ],
      "metadata": {
        "id": "z39kMFxXe3IO"
      }
    },
    {
      "cell_type": "code",
      "source": [
        "def get_elgamal_prime(size):\n",
        "\n",
        "    r = random_state(time.time_ns())\n",
        "    q = mpz_urandomb(r,size)\n",
        "    q = q.bit_set(size-1)\n",
        "    p = next_prime(q)\n",
        "\n",
        "    return p\n",
        "\n",
        "\n",
        "def get_generator(p):\n",
        "    while True:\n",
        "      seed = random_state (time.time_ns())\n",
        "      g = mpz_random(seed,p)\n",
        "      if (powmod (g,2,p)!= 1) & (powmod (g,int((p-1)/2),p)!= 1):\n",
        "        return g\n",
        "\n",
        "def get_exp(p):\n",
        "    seed = random_state (time.time_ns())\n",
        "    b = mpz_random(seed,p-1)\n",
        "    return b"
      ],
      "metadata": {
        "id": "IDEpGnJbe4nP"
      },
      "execution_count": 6,
      "outputs": []
    },
    {
      "cell_type": "markdown",
      "source": [
        "### Génération de clé publique et privée de El Gamal"
      ],
      "metadata": {
        "id": "YGKxQzw0gKdK"
      }
    },
    {
      "cell_type": "code",
      "source": [
        "def get_elgamal_keys(size):\n",
        "    p = get_elgamal_prime(size)\n",
        "    g = get_generator(p)\n",
        "    b = get_exp (p)\n",
        "    B = powmod (g,b,p)\n",
        "    pub_key = [p,g,B]\n",
        "    priv_key = b\n",
        "    return pub_key, priv_key\n"
      ],
      "metadata": {
        "id": "8OAj2TtogTpH"
      },
      "execution_count": 7,
      "outputs": []
    },
    {
      "cell_type": "code",
      "source": [
        "# Test\n",
        "pub_key, priv_key  = get_elgamal_keys(512)\n",
        "print(\"p==\", pub_key[0])\n",
        "print(\"g==\", pub_key[1])\n",
        "print(\"B==\", pub_key[2])\n",
        "print(\"b==\", priv_key)"
      ],
      "metadata": {
        "colab": {
          "base_uri": "https://localhost:8080/"
        },
        "id": "cupYWN3hgeHO",
        "outputId": "6128fa35-45bb-4ef4-aed1-b65aa53d4c4a"
      },
      "execution_count": 8,
      "outputs": [
        {
          "output_type": "stream",
          "name": "stdout",
          "text": [
            "p== 11160837458645634181662646428155530430872845645755725487356940169644542799832109340681109795514606919458515064005424444953035347302141963195442103034823829\n",
            "g== 8505655407511404606615563037104504413263162760874183718559994067472977261896044036867013959504570514893110602398274069239479222567606452525092916372054383\n",
            "B== 308438389638241232617418996364291590705555069459760069677738926768055531865579838817065130725318323576106224779398693366235661385104335120544390775023632\n",
            "b== 2661248238128742668320655260248248942257283375665564167973699353165143354328319348589571685012378103417323180211537729495763806834325551330304870507268651\n"
          ]
        }
      ]
    },
    {
      "cell_type": "markdown",
      "source": [
        "### Fonctions de chiffrement et de déchiffrement"
      ],
      "metadata": {
        "id": "5ZwOPr8Pg_8J"
      }
    },
    {
      "cell_type": "code",
      "source": [
        "def elgamal_encrypt(message, pub_key):\n",
        "    p = pub_key[0]\n",
        "    g = pub_key[1]\n",
        "    B = pub_key[2]\n",
        "    seed = random_state (time.time_ns())\n",
        "    k = mpz_random(seed,p-1)\n",
        "    enc = powmod (message*powmod (B,k,p),1,p)\n",
        "    K = powmod (g,k,p)\n",
        "    return enc, K\n",
        "\n",
        "def elgamal_decrypt(enc, K, priv_key, pub_key):\n",
        "    p = pub_key[0]\n",
        "    g = pub_key[1]\n",
        "    B = pub_key[2]\n",
        "    b = priv_key\n",
        "    binv = invert (b , p)\n",
        "    enc = powmod (enc*powmod (K,binv,p),1,p)\n",
        "    return message"
      ],
      "metadata": {
        "id": "3cnfOF1_hBJ2"
      },
      "execution_count": 9,
      "outputs": []
    },
    {
      "cell_type": "code",
      "source": [
        "# Test\n",
        "message = mpz(102132100)\n",
        "print(\"clear message = \", message)\n",
        "enc, K = elgamal_encrypt(message, pub_key)\n",
        "print(\"encrypted message = \", enc)\n",
        "m = elgamal_decrypt(enc, K, priv_key, pub_key)\n",
        "print(\"decrypted message = \", m)"
      ],
      "metadata": {
        "colab": {
          "base_uri": "https://localhost:8080/"
        },
        "id": "9L58yoavhD5J",
        "outputId": "846b5619-c1ff-4920-888a-3f2e02e7e33c"
      },
      "execution_count": 10,
      "outputs": [
        {
          "output_type": "stream",
          "name": "stdout",
          "text": [
            "clear message =  102132100\n",
            "encrypted message =  1468480521624480776815622205460207257899403256789340708083831948144472045242320438519904461776085147303107946937425458658221340917642425571402591990346194\n",
            "decrypted message =  102132100\n"
          ]
        }
      ]
    }
  ]
}