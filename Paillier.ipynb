{
  "nbformat": 4,
  "nbformat_minor": 0,
  "metadata": {
    "colab": {
      "provenance": []
    },
    "kernelspec": {
      "name": "python3",
      "display_name": "Python 3"
    },
    "language_info": {
      "name": "python"
    }
  },
  "cells": [
    {
      "cell_type": "code",
      "execution_count": 1,
      "metadata": {
        "colab": {
          "base_uri": "https://localhost:8080/"
        },
        "id": "S2zvCzx7iGqk",
        "outputId": "68808054-2ca7-47cf-efa5-0ede71ee9287"
      },
      "outputs": [
        {
          "output_type": "stream",
          "name": "stdout",
          "text": [
            "⏬ Downloading https://github.com/conda-forge/miniforge/releases/download/23.11.0-0/Mambaforge-23.11.0-0-Linux-x86_64.sh...\n",
            "📦 Installing...\n",
            "📌 Adjusting configuration...\n",
            "🩹 Patching environment...\n",
            "⏲ Done in 0:00:17\n",
            "🔁 Restarting kernel...\n",
            "Channels:\n",
            " - conda-forge\n",
            "Platform: linux-64\n",
            "Collecting package metadata (repodata.json): - \b\b\\ \b\b| \b\b/ \b\b- \b\b\\ \b\b| \b\b/ \b\b- \b\b\\ \b\b| \b\b/ \b\b- \b\b\\ \b\b| \b\b/ \b\b- \b\b\\ \b\b| \b\b/ \b\b- \b\b\\ \b\b| \b\b/ \b\b- \b\b\\ \b\b| \b\b/ \b\b- \b\b\\ \b\b| \b\b/ \b\b- \b\b\\ \b\b| \b\b/ \b\b- \b\b\\ \b\b| \b\b/ \b\b- \b\b\\ \b\b| \b\b/ \b\b- \b\b\\ \b\b| \b\b/ \b\b- \b\b\\ \b\b| \b\b/ \b\b- \b\b\\ \b\b| \b\b/ \b\b- \b\b\\ \b\b| \b\b/ \b\b- \b\b\\ \b\b| \b\b/ \b\b- \b\b\\ \b\b| \b\b/ \b\b- \b\b\\ \b\b| \b\b/ \b\b- \b\b\\ \b\b| \b\b/ \b\b- \b\b\\ \b\b| \b\b/ \b\b- \b\b\\ \b\b| \b\b/ \b\b- \b\b\\ \b\b| \b\b/ \b\b- \b\b\\ \b\b| \b\b/ \b\b- \b\b\\ \b\b| \b\b/ \b\b- \b\b\\ \b\b| \b\b/ \b\b- \b\b\\ \b\b| \b\b/ \b\b- \b\b\\ \b\b| \b\b/ \b\b- \b\b\\ \b\b| \b\b/ \b\b- \b\b\\ \b\b| \b\b/ \b\b- \b\b\\ \b\b| \b\b/ \b\b- \b\b\\ \b\b| \b\b/ \b\b- \b\b\\ \b\b| \b\b/ \b\b- \b\b\\ \b\b| \b\b/ \b\b- \b\b\\ \b\b| \b\b/ \b\b- \b\b\\ \b\b| \b\b/ \b\b- \b\b\\ \b\b| \b\b/ \b\b- \b\b\\ \b\b| \b\b/ \b\b- \b\b\\ \b\b| \b\b/ \b\b- \b\b\\ \b\b| \b\b/ \b\b- \b\b\\ \b\b| \b\b/ \b\b- \b\b\\ \b\b| \b\b/ \b\b- \b\b\\ \b\b| \b\b/ \b\b- \b\b\\ \b\b| \b\b/ \b\b- \b\b\\ \b\b| \b\b/ \b\b- \b\b\\ \b\b| \b\b/ \b\b- \b\b\\ \b\b| \b\b/ \b\b- \b\b\\ \b\b| \b\b/ \b\b- \b\b\\ \b\b| \b\b/ \b\b- \b\b\\ \b\b| \b\b/ \b\b- \b\b\\ \b\b| \b\b/ \b\b- \b\b\\ \b\b| \b\b/ \b\b- \b\b\\ \b\b| \b\b/ \b\b- \b\b\\ \b\b| \b\b/ \b\b- \b\b\\ \b\b| \b\b/ \b\b- \b\b\\ \b\b| \b\b/ \b\b- \b\b\\ \b\b| \b\b/ \b\bdone\n",
            "Solving environment: \\ \b\b| \b\b/ \b\bdone\n",
            "\n",
            "\n",
            "==> WARNING: A newer version of conda exists. <==\n",
            "    current version: 23.11.0\n",
            "    latest version: 24.3.0\n",
            "\n",
            "Please update conda by running\n",
            "\n",
            "    $ conda update -n base -c conda-forge conda\n",
            "\n",
            "\n",
            "\n",
            "## Package Plan ##\n",
            "\n",
            "  environment location: /usr/local\n",
            "\n",
            "  added / updated specs:\n",
            "    - gmpy2\n",
            "\n",
            "\n",
            "The following packages will be downloaded:\n",
            "\n",
            "    package                    |            build\n",
            "    ---------------------------|-----------------\n",
            "    ca-certificates-2024.2.2   |       hbcca054_0         152 KB  conda-forge\n",
            "    certifi-2024.2.2           |     pyhd8ed1ab_0         157 KB  conda-forge\n",
            "    gmp-6.3.0                  |       h59595ed_1         556 KB  conda-forge\n",
            "    gmpy2-2.1.5                |  py310hc3586ac_0         199 KB  conda-forge\n",
            "    mpc-1.3.1                  |       hfe3b2da_0         114 KB  conda-forge\n",
            "    mpfr-4.2.1                 |       h9458935_1         628 KB  conda-forge\n",
            "    openssl-3.3.0              |       hd590300_0         2.8 MB  conda-forge\n",
            "    ------------------------------------------------------------\n",
            "                                           Total:         4.5 MB\n",
            "\n",
            "The following NEW packages will be INSTALLED:\n",
            "\n",
            "  gmp                conda-forge/linux-64::gmp-6.3.0-h59595ed_1 \n",
            "  gmpy2              conda-forge/linux-64::gmpy2-2.1.5-py310hc3586ac_0 \n",
            "  mpc                conda-forge/linux-64::mpc-1.3.1-hfe3b2da_0 \n",
            "  mpfr               conda-forge/linux-64::mpfr-4.2.1-h9458935_1 \n",
            "\n",
            "The following packages will be UPDATED:\n",
            "\n",
            "  ca-certificates                     2023.11.17-hbcca054_0 --> 2024.2.2-hbcca054_0 \n",
            "  certifi                           2023.11.17-pyhd8ed1ab_0 --> 2024.2.2-pyhd8ed1ab_0 \n",
            "  openssl                                  3.2.0-hd590300_1 --> 3.3.0-hd590300_0 \n",
            "\n",
            "\n",
            "\n",
            "Downloading and Extracting Packages:\n",
            "openssl-3.3.0        | 2.8 MB    | :   0% 0/1 [00:00<?, ?it/s]\n",
            "mpfr-4.2.1           | 628 KB    | :   0% 0/1 [00:00<?, ?it/s]\u001b[A\n",
            "\n",
            "gmp-6.3.0            | 556 KB    | :   0% 0/1 [00:00<?, ?it/s]\u001b[A\u001b[A\n",
            "\n",
            "\n",
            "gmpy2-2.1.5          | 199 KB    | :   0% 0/1 [00:00<?, ?it/s]\u001b[A\u001b[A\u001b[A\n",
            "\n",
            "\n",
            "\n",
            "certifi-2024.2.2     | 157 KB    | :   0% 0/1 [00:00<?, ?it/s]\u001b[A\u001b[A\u001b[A\u001b[A\n",
            "\n",
            "\n",
            "\n",
            "\n",
            "ca-certificates-2024 | 152 KB    | :   0% 0/1 [00:00<?, ?it/s]\u001b[A\u001b[A\u001b[A\u001b[A\u001b[A\n",
            "\n",
            "\n",
            "\n",
            "\n",
            "\n",
            "openssl-3.3.0        | 2.8 MB    | :   1% 0.005659047239435657/1 [00:00<00:29, 29.98s/it]\n",
            "mpfr-4.2.1           | 628 KB    | :   3% 0.025478182440207758/1 [00:00<00:06,  6.80s/it]\u001b[A\n",
            "\n",
            "\n",
            "gmpy2-2.1.5          | 199 KB    | :   8% 0.08028578288928853/1 [00:00<00:01,  2.11s/it]\u001b[A\u001b[A\u001b[A\n",
            "\n",
            "\n",
            "\n",
            "certifi-2024.2.2     | 157 KB    | :  10% 0.10204348557228184/1 [00:00<00:01,  1.66s/it]\u001b[A\u001b[A\u001b[A\u001b[A\n",
            "\n",
            "gmp-6.3.0            | 556 KB    | :   3% 0.028751324905414037/1 [00:00<00:06,  6.30s/it]\u001b[A\u001b[A\n",
            "\n",
            "\n",
            "\n",
            "\n",
            "ca-certificates-2024 | 152 KB    | :  11% 0.10540943949765814/1 [00:00<00:02,  2.29s/it]\u001b[A\u001b[A\u001b[A\u001b[A\u001b[A\n",
            "\n",
            "\n",
            "\n",
            "\n",
            "\n",
            "openssl-3.3.0        | 2.8 MB    | :  85% 0.8488570859153485/1 [00:00<00:00,  3.87it/s]  \n",
            "\n",
            "\n",
            "\n",
            "certifi-2024.2.2     | 157 KB    | : 100% 1.0/1 [00:00<00:00,  4.30it/s]                \u001b[A\u001b[A\u001b[A\u001b[A\n",
            "\n",
            "\n",
            "\n",
            "certifi-2024.2.2     | 157 KB    | : 100% 1.0/1 [00:00<00:00,  4.30it/s]\u001b[A\u001b[A\u001b[A\u001b[A\n",
            "\n",
            "\n",
            "gmpy2-2.1.5          | 199 KB    | : 100% 1.0/1 [00:00<00:00,  4.00it/s]                \u001b[A\u001b[A\u001b[A\n",
            "\n",
            "\n",
            "gmpy2-2.1.5          | 199 KB    | : 100% 1.0/1 [00:00<00:00,  4.00it/s]\u001b[A\u001b[A\u001b[A\n",
            "\n",
            "gmp-6.3.0            | 556 KB    | : 100% 1.0/1 [00:00<00:00,  3.31it/s]                 \u001b[A\u001b[A\n",
            "\n",
            "gmp-6.3.0            | 556 KB    | : 100% 1.0/1 [00:00<00:00,  3.31it/s]\u001b[A\u001b[A\n",
            "\n",
            "\n",
            "\n",
            "\n",
            "ca-certificates-2024 | 152 KB    | : 100% 1.0/1 [00:00<00:00,  3.32it/s]                \u001b[A\u001b[A\u001b[A\u001b[A\u001b[A\n",
            "\n",
            "\n",
            "\n",
            "\n",
            "ca-certificates-2024 | 152 KB    | : 100% 1.0/1 [00:00<00:00,  3.32it/s]\u001b[A\u001b[A\u001b[A\u001b[A\u001b[A\n",
            "mpfr-4.2.1           | 628 KB    | : 100% 1.0/1 [00:00<00:00,  2.85it/s]                 \u001b[A\n",
            "mpfr-4.2.1           | 628 KB    | : 100% 1.0/1 [00:00<00:00,  2.85it/s]\u001b[A\n",
            "\n",
            "\n",
            "\n",
            "\n",
            "\n",
            "mpc-1.3.1            | 114 KB    | : 100% 1.0/1 [00:00<00:00,  2.80it/s]                \u001b[A\u001b[A\u001b[A\u001b[A\u001b[A\u001b[A\n",
            "\n",
            "\n",
            "\n",
            "\n",
            "\n",
            "                                                                        \n",
            "                                                                        \u001b[A\n",
            "\n",
            "                                                                        \u001b[A\u001b[A\n",
            "\n",
            "\n",
            "                                                                        \u001b[A\u001b[A\u001b[A\n",
            "\n",
            "\n",
            "\n",
            "                                                                        \u001b[A\u001b[A\u001b[A\u001b[A\n",
            "\n",
            "\n",
            "\n",
            "\n",
            "                                                                        \u001b[A\u001b[A\u001b[A\u001b[A\u001b[A\n",
            "\n",
            "\n",
            "\n",
            "\n",
            "\n",
            "                                                                        \u001b[A\u001b[A\u001b[A\u001b[A\u001b[A\u001b[A\n",
            "Preparing transaction: \\ \b\bdone\n",
            "Verifying transaction: / \b\b- \b\bdone\n",
            "Executing transaction: | \b\b/ \b\b- \b\b\\ \b\b| \b\b/ \b\bdone\n"
          ]
        }
      ],
      "source": [
        "# Instalation de conda et Gmpy2\n",
        "!pip install -q condacolab\n",
        "import condacolab\n",
        "condacolab.install()\n",
        "!conda install -c conda-forge gmpy2"
      ]
    },
    {
      "cell_type": "code",
      "source": [
        "\n",
        "from gmpy2 import mpz, is_prime , next_prime , mpz_urandomb, is_strong_prp,random_state,mpz_random,invert,powmod, random_state\n",
        "import time"
      ],
      "metadata": {
        "id": "IoKKPIxvjPiX"
      },
      "execution_count": 5,
      "outputs": []
    },
    {
      "cell_type": "markdown",
      "source": [
        "### Génération de nombres premiers"
      ],
      "metadata": {
        "id": "fmKPKiZDjt8O"
      }
    },
    {
      "cell_type": "code",
      "source": [
        "def get_prime(size): # size la taille en binaire\n",
        "    r = random_state(time.time_ns())\n",
        "    q = mpz_urandomb(r,size)\n",
        "    q = q.bit_set(size-1)\n",
        "    q = next_prime(q)\n",
        "\n",
        "    return q"
      ],
      "metadata": {
        "id": "SYlFEtygjxLx"
      },
      "execution_count": null,
      "outputs": []
    },
    {
      "cell_type": "markdown",
      "source": [
        "### Génération de clé publique et privée de Paillier"
      ],
      "metadata": {
        "id": "22y3lqCOjWpw"
      }
    },
    {
      "cell_type": "code",
      "source": [
        "def get_paillier_keys(size):\n",
        "    p = get_prime (int(size/2))\n",
        "    while True :\n",
        "       q = get_prime (int(size/2))\n",
        "       if q != p:\n",
        "          break\n",
        "    n = p*q\n",
        "    phi = (p-1)*(q-1)\n",
        "    return n , [phi,max(p,q),min (q,p)]"
      ],
      "metadata": {
        "id": "rflhuoI9jXbY"
      },
      "execution_count": 2,
      "outputs": []
    },
    {
      "cell_type": "code",
      "source": [
        "# Test\n",
        "pub_key, priv_key  = get_paillier_keys(512)\n",
        "print(\"N==\", pub_key)\n",
        "\n",
        "print(\"phi==\", priv_key[0])\n",
        "print(\"p==\", priv_key[1])\n",
        "print(\"q==\", priv_key[2])"
      ],
      "metadata": {
        "colab": {
          "base_uri": "https://localhost:8080/"
        },
        "id": "dVjwL4nPjbKA",
        "outputId": "320d17cc-0c69-4c8d-e559-2c0b4977f6f5"
      },
      "execution_count": 6,
      "outputs": [
        {
          "output_type": "stream",
          "name": "stdout",
          "text": [
            "N== 6786043428123520792234859274351193016733454864752856479354131931290022715681005687729117497073561685288817455064805869072610926371148386442334357682064399\n",
            "phi== 6786043428123520792234859274351193016733454864752856479354131931290022715680840631329034391278930608378493276233227265552218015118316518958379797102533264\n",
            "p== 87514217888998978205291283539819720157949259410375346209404849589014586270183\n",
            "q== 77542182194106816425785626784359111420654260982535906622462634365545993260953\n"
          ]
        }
      ]
    },
    {
      "cell_type": "markdown",
      "source": [
        "### Fonctions de chiffrement et de déchiffrement"
      ],
      "metadata": {
        "id": "SbszkdaMkC-Y"
      }
    },
    {
      "cell_type": "code",
      "source": [
        "from math import floor\n",
        "def get_r(pub_key):\n",
        "\n",
        "    seed = random_state (time.time_ns())\n",
        "    r = mpz_random(seed,pub_key-1) + 1\n",
        "    return r\n",
        "\n",
        "def paillier_encrypt(message, pub_key):\n",
        "    N = pub_key\n",
        "    r = get_r (N)\n",
        "    c = powmod(powmod(r,N,N**2) * powmod(1+N,message, N**2),1,N**2)\n",
        "    return c\n",
        "\n",
        "def paillier_decrypt(enc, priv_key, pub_key):\n",
        "    phi = priv_key [0]\n",
        "\n",
        "    N = pub_key\n",
        "\n",
        "    enc1 = powmod(enc,phi,N**2)\n",
        "    phiinv = invert (phi, N)\n",
        "    enc1 = (enc1 - 1)// N * phiinv\n",
        "    m = powmod(enc1,1,N)\n",
        "    return m\n",
        "\n",
        "def paillier_decrypt_CRT(enc, priv_key, pub_key):\n",
        "    N = pub_key\n",
        "    phi = priv_key [0]\n",
        "    p = priv_key [1]\n",
        "    q = priv_key [2]\n",
        "    phiinv = invert (phi, N)\n",
        "    qinv = invert (q**2,p**2)\n",
        "    xp = powmod(enc,phi,p**2)\n",
        "    xq = powmod(enc,phi,q**2)\n",
        "    x = powmod (qinv*(xp - xq),1,p**2) * q **2 + xq\n",
        "    m = powmod((x-1)// N * phiinv ,1 , N)\n",
        "    return m"
      ],
      "metadata": {
        "id": "zNsHAixpkD4_"
      },
      "execution_count": 7,
      "outputs": []
    },
    {
      "cell_type": "code",
      "source": [
        "# Test\n",
        "message = mpz(102132100)\n",
        "print(\"clear message = \", message)\n",
        "enc = paillier_encrypt(message, pub_key)\n",
        "print(\"encrypted message = \", enc)\n",
        "m = paillier_decrypt(enc, priv_key, pub_key)\n",
        "print(\"decrypted message = \", m)\n",
        "\n",
        "m_crt = paillier_decrypt_CRT(enc, priv_key, pub_key)\n",
        "print(\"decrypted message by CRT = \", m_crt)"
      ],
      "metadata": {
        "colab": {
          "base_uri": "https://localhost:8080/"
        },
        "id": "QurBvkdnkJFU",
        "outputId": "a1cfb2ba-0457-4f1a-8c4d-4cb672d080ef"
      },
      "execution_count": 8,
      "outputs": [
        {
          "output_type": "stream",
          "name": "stdout",
          "text": [
            "clear message =  102132100\n",
            "encrypted message =  263211549866228726427531237971794199245899999673096607644775439859725919287550710642941267673292442064839022798046149721320017653633880785361532101185873963656942345132062864719678335901655464903572628272193933768017468633473175063873319766595662677906097412049706155369671556019902221873896708233598327487\n",
            "decrypted message =  102132100\n",
            "decrypted message by CRT =  102132100\n"
          ]
        }
      ]
    }
  ]
}